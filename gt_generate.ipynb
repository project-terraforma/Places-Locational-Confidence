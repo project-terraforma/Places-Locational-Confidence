{
 "cells": [
  {
   "cell_type": "code",
   "execution_count": null,
   "id": "b9050656",
   "metadata": {},
   "outputs": [],
   "source": [
    "%pip install lonboard overturemaps"
   ]
  },
  {
   "cell_type": "code",
   "execution_count": 2,
   "id": "21752312",
   "metadata": {},
   "outputs": [
    {
     "data": {
      "text/plain": [
       "'\\nfrom transformers import pipeline, AutoTokenizer, AutoModelForSequenceClassification\\nfrom datasets import load_dataset\\nfrom huggingface_hub import HfApi, hf_hub_download\\n'"
      ]
     },
     "execution_count": 2,
     "metadata": {},
     "output_type": "execute_result"
    }
   ],
   "source": [
    "\n",
    "import overturemaps as om\n",
    "from overturemaps import core\n",
    "import overturemaps\n",
    "import pandas\n",
    "import geopandas as gpd\n",
    "from shapely import wkb\n",
    "from lonboard import Map, PolygonLayer, ScatterplotLayer\n",
    "import ipywidgets as widgets\n",
    "import numpy as np\n",
    "from IPython.display import display\n",
    "\n",
    "'''\n",
    "from transformers import pipeline, AutoTokenizer, AutoModelForSequenceClassification\n",
    "from datasets import load_dataset\n",
    "from huggingface_hub import HfApi, hf_hub_download\n",
    "'''"
   ]
  },
  {
   "cell_type": "code",
   "execution_count": 3,
   "id": "9f57b004",
   "metadata": {},
   "outputs": [],
   "source": [
    "bbox = 139.6917, 35.6895, 139.7017, 35.6995\n",
    "bbox = -109.048, 37.000, -102.040, 41.000 #colorado"
   ]
  },
  {
   "cell_type": "code",
   "execution_count": null,
   "id": "177e30df",
   "metadata": {},
   "outputs": [],
   "source": []
  },
  {
   "cell_type": "code",
   "execution_count": 4,
   "id": "9125e196",
   "metadata": {},
   "outputs": [],
   "source": [
    "def create_map(dataset):\n",
    "    layer = ScatterplotLayer.from_geopandas(\n",
    "        dataset,\n",
    "        get_fill_color=[0, 128, 128],\n",
    "        radius_min_pixels = 1.5,\n",
    "    )\n",
    "\n",
    "    view_state = {\n",
    "        \"longitude\": (bbox[0]+bbox[2])/2,\n",
    "        \"latitude\": (bbox[1]+bbox[3])/2,\n",
    "        \"zoom\": 8,\n",
    "        \"pitch\": 0,\n",
    "    }\n",
    "    return Map(layer,view_state=view_state)\n",
    "    "
   ]
  },
  {
   "cell_type": "code",
   "execution_count": 5,
   "id": "937cde57",
   "metadata": {},
   "outputs": [
    {
     "name": "stdout",
     "output_type": "stream",
     "text": [
      "(257710, 15)\n"
     ]
    }
   ],
   "source": [
    "gdf = core.geodataframe(\"place\", bbox=bbox)\n",
    "print(np.shape(gdf))"
   ]
  },
  {
   "cell_type": "code",
   "execution_count": null,
   "id": "07bcaacf",
   "metadata": {},
   "outputs": [],
   "source": [
    "create_map(gdf)"
   ]
  },
  {
   "cell_type": "code",
   "execution_count": 6,
   "id": "1a241986",
   "metadata": {},
   "outputs": [
    {
     "name": "stdout",
     "output_type": "stream",
     "text": [
      "(10000, 15)\n"
     ]
    }
   ],
   "source": [
    "# Randomly sample 10,000 points from gdf\n",
    "sampled_gdf = gdf.sample(n=10000, random_state=42)\n",
    "print(sampled_gdf.shape)"
   ]
  },
  {
   "cell_type": "code",
   "execution_count": 9,
   "id": "069d7066",
   "metadata": {},
   "outputs": [
    {
     "name": "stderr",
     "output_type": "stream",
     "text": [
      "c:\\Users\\iamcy\\anaconda3\\envs\\cyrusc\\Lib\\site-packages\\lonboard\\_geoarrow\\ops\\reproject.py:33: UserWarning: No CRS exists on data. If no data is shown on the map, double check that your CRS is WGS84.\n",
      "  warn(\n"
     ]
    },
    {
     "data": {
      "application/vnd.jupyter.widget-view+json": {
       "model_id": "48cd346f4bf944b887fcd7cd7027eb12",
       "version_major": 2,
       "version_minor": 1
      },
      "text/plain": [
       "Map(custom_attribution='', layers=(ScatterplotLayer(get_fill_color=[0, 128, 128], radius_min_pixels=1.5, table…"
      ]
     },
     "execution_count": 9,
     "metadata": {},
     "output_type": "execute_result"
    }
   ],
   "source": [
    "create_map(sampled_gdf)"
   ]
  },
  {
   "cell_type": "code",
   "execution_count": 7,
   "id": "66f2a208",
   "metadata": {},
   "outputs": [],
   "source": [
    "def dist_from_address(point, address):\n",
    "    \"\"\"\n",
    "    Calculate the distance from a point to an address.\n",
    "    \"\"\"\n",
    "    # Convert the address to a point\n",
    "    address_point = gdf[gdf['address'] == address].geometry.values[0]\n",
    "    # Calculate the distance\n",
    "    distance = point.distance(address_point)\n",
    "    return distance"
   ]
  },
  {
   "cell_type": "code",
   "execution_count": null,
   "id": "ebdd224f",
   "metadata": {},
   "outputs": [],
   "source": [
    "def OVERTURE_address_to_coord(address):\n",
    "    \"\"\"\n",
    "    Convert an address to coordinates.\n",
    "    \"\"\"\n",
    "    # Get the coordinates of the address\n",
    "    coords = gdf[gdf['address'] == address].geometry.values[0]\n",
    "    return coords.x, coords.y"
   ]
  },
  {
   "cell_type": "code",
   "execution_count": 22,
   "id": "46d56f34",
   "metadata": {},
   "outputs": [],
   "source": [
    "def CROSSREFERENCED_address_to_coord(address):\n",
    "    \"\"\"\n",
    "    #TODO find a way to cross reference address with other dataset. \n",
    "    \"\"\""
   ]
  },
  {
   "cell_type": "code",
   "execution_count": 72,
   "id": "0d4cb448",
   "metadata": {},
   "outputs": [],
   "source": [
    "def check_on_road(address):\n",
    "   print(f'address: {address}')\n",
    "   bbox = address.x-0.0001, address.y+-.0001, address.x+0.0001, address.y+0.0001\n",
    "   print(f\"BBOX: {bbox}\")\n",
    "   roads = overturemaps.record_batch_reader(\"connector\", bbox).read_all()\n",
    "   print(\"Len roads: \", len(roads))\n",
    "   if len(roads) > 0:\n",
    "      return True\n",
    "   else:\n",
    "      return False\n",
    "   #gdf = core.geodataframe(\"transportation\", bbox=(0,0,0,0))"
   ]
  },
  {
   "cell_type": "code",
   "execution_count": 73,
   "id": "470427aa",
   "metadata": {},
   "outputs": [
    {
     "name": "stdout",
     "output_type": "stream",
     "text": [
      "address: POINT (-105.1094203 39.7472391)\n",
      "BBOX: (-105.1095203, 39.7471391, -105.1093203, 39.747339100000005)\n",
      "Len roads:  0\n",
      "Is address 0 on a road? False\n",
      "address: POINT (-105.0135101 39.7485743)\n",
      "BBOX: (-105.01361010000001, 39.7484743, -105.0134101, 39.748674300000005)\n"
     ]
    },
    {
     "ename": "KeyboardInterrupt",
     "evalue": "",
     "output_type": "error",
     "traceback": [
      "\u001b[1;31m---------------------------------------------------------------------------\u001b[0m",
      "\u001b[1;31mKeyboardInterrupt\u001b[0m                         Traceback (most recent call last)",
      "Cell \u001b[1;32mIn[73], line 7\u001b[0m\n\u001b[0;32m      2\u001b[0m point_coords \u001b[38;5;241m=\u001b[39m sampled_gdf\u001b[38;5;241m.\u001b[39mgeometry\u001b[38;5;241m.\u001b[39mvalues[i]\n\u001b[0;32m      3\u001b[0m \u001b[38;5;66;03m#print(f'Point {i}\\'s coordinates: {point_coords}')\u001b[39;00m\n\u001b[0;32m      4\u001b[0m \n\u001b[0;32m      5\u001b[0m \u001b[38;5;66;03m#print(f'Point {i}\\'s address: {addess}')\u001b[39;00m\n\u001b[0;32m      6\u001b[0m \u001b[38;5;66;03m#print(f'Point {i}\\'s coordinates: {sampled_gdf.geometry.values[i]}')\u001b[39;00m\n\u001b[1;32m----> 7\u001b[0m \u001b[38;5;28mprint\u001b[39m(\u001b[38;5;124mf\u001b[39m\u001b[38;5;124m\"\u001b[39m\u001b[38;5;124mIs address \u001b[39m\u001b[38;5;132;01m{\u001b[39;00mi\u001b[38;5;132;01m}\u001b[39;00m\u001b[38;5;124m on a road? \u001b[39m\u001b[38;5;132;01m{\u001b[39;00m\u001b[43mcheck_on_road\u001b[49m\u001b[43m(\u001b[49m\u001b[43mpoint_coords\u001b[49m\u001b[43m)\u001b[49m\u001b[38;5;132;01m}\u001b[39;00m\u001b[38;5;124m\"\u001b[39m)\n\u001b[0;32m      8\u001b[0m \u001b[38;5;66;03m# Calculate the point from the point to the address\u001b[39;00m\n\u001b[0;32m      9\u001b[0m \u001b[38;5;66;03m#distance = dist_from_address(point, \"Tokyo Tower\")\u001b[39;00m\n\u001b[0;32m     10\u001b[0m \u001b[38;5;66;03m#print(f\"Distance from {point} to Tokyo Tower: {distance} meters\")\u001b[39;00m\n",
      "Cell \u001b[1;32mIn[72], line 5\u001b[0m, in \u001b[0;36mcheck_on_road\u001b[1;34m(address)\u001b[0m\n\u001b[0;32m      3\u001b[0m bbox \u001b[38;5;241m=\u001b[39m address\u001b[38;5;241m.\u001b[39mx\u001b[38;5;241m-\u001b[39m\u001b[38;5;241m0.0001\u001b[39m, address\u001b[38;5;241m.\u001b[39my\u001b[38;5;241m+\u001b[39m\u001b[38;5;241m-\u001b[39m\u001b[38;5;241m.0001\u001b[39m, address\u001b[38;5;241m.\u001b[39mx\u001b[38;5;241m+\u001b[39m\u001b[38;5;241m0.0001\u001b[39m, address\u001b[38;5;241m.\u001b[39my\u001b[38;5;241m+\u001b[39m\u001b[38;5;241m0.0001\u001b[39m\n\u001b[0;32m      4\u001b[0m \u001b[38;5;28mprint\u001b[39m(\u001b[38;5;124mf\u001b[39m\u001b[38;5;124m\"\u001b[39m\u001b[38;5;124mBBOX: \u001b[39m\u001b[38;5;132;01m{\u001b[39;00mbbox\u001b[38;5;132;01m}\u001b[39;00m\u001b[38;5;124m\"\u001b[39m)\n\u001b[1;32m----> 5\u001b[0m roads \u001b[38;5;241m=\u001b[39m \u001b[43moverturemaps\u001b[49m\u001b[38;5;241;43m.\u001b[39;49m\u001b[43mrecord_batch_reader\u001b[49m\u001b[43m(\u001b[49m\u001b[38;5;124;43m\"\u001b[39;49m\u001b[38;5;124;43mconnector\u001b[39;49m\u001b[38;5;124;43m\"\u001b[39;49m\u001b[43m,\u001b[49m\u001b[43m \u001b[49m\u001b[43mbbox\u001b[49m\u001b[43m)\u001b[49m\u001b[38;5;241;43m.\u001b[39;49m\u001b[43mread_all\u001b[49m\u001b[43m(\u001b[49m\u001b[43m)\u001b[49m\n\u001b[0;32m      6\u001b[0m \u001b[38;5;28mprint\u001b[39m(\u001b[38;5;124m\"\u001b[39m\u001b[38;5;124mLen roads: \u001b[39m\u001b[38;5;124m\"\u001b[39m, \u001b[38;5;28mlen\u001b[39m(roads))\n\u001b[0;32m      7\u001b[0m \u001b[38;5;28;01mif\u001b[39;00m \u001b[38;5;28mlen\u001b[39m(roads) \u001b[38;5;241m>\u001b[39m \u001b[38;5;241m0\u001b[39m:\n",
      "File \u001b[1;32mc:\\Users\\iamcy\\anaconda3\\envs\\cyrusc\\Lib\\site-packages\\pyarrow\\ipc.pxi:762\u001b[0m, in \u001b[0;36mpyarrow.lib.RecordBatchReader.read_all\u001b[1;34m()\u001b[0m\n",
      "File \u001b[1;32mc:\\Users\\iamcy\\anaconda3\\envs\\cyrusc\\Lib\\site-packages\\pyarrow\\error.pxi:89\u001b[0m, in \u001b[0;36mpyarrow.lib.check_status\u001b[1;34m()\u001b[0m\n",
      "File \u001b[1;32mc:\\Users\\iamcy\\anaconda3\\envs\\cyrusc\\Lib\\site-packages\\overturemaps\\core.py:45\u001b[0m, in \u001b[0;36m<genexpr>\u001b[1;34m(.0)\u001b[0m\n\u001b[0;32m     37\u001b[0m batches \u001b[38;5;241m=\u001b[39m dataset\u001b[38;5;241m.\u001b[39mto_batches(\u001b[38;5;28mfilter\u001b[39m\u001b[38;5;241m=\u001b[39m\u001b[38;5;28mfilter\u001b[39m)\n\u001b[0;32m     39\u001b[0m \u001b[38;5;66;03m# to_batches() can yield many batches with no rows. I've seen\u001b[39;00m\n\u001b[0;32m     40\u001b[0m \u001b[38;5;66;03m# this cause downstream crashes or other negative effects. For\u001b[39;00m\n\u001b[0;32m     41\u001b[0m \u001b[38;5;66;03m# example, the ParquetWriter will emit an empty row group for\u001b[39;00m\n\u001b[0;32m     42\u001b[0m \u001b[38;5;66;03m# each one bloating the size of a parquet file. Just omit\u001b[39;00m\n\u001b[0;32m     43\u001b[0m \u001b[38;5;66;03m# them so the RecordBatchReader only has non-empty ones. Use\u001b[39;00m\n\u001b[0;32m     44\u001b[0m \u001b[38;5;66;03m# the generator syntax so the batches are streamed out\u001b[39;00m\n\u001b[1;32m---> 45\u001b[0m non_empty_batches \u001b[38;5;241m=\u001b[39m \u001b[43m(\u001b[49m\u001b[43mb\u001b[49m\u001b[43m \u001b[49m\u001b[38;5;28;43;01mfor\u001b[39;49;00m\u001b[43m \u001b[49m\u001b[43mb\u001b[49m\u001b[43m \u001b[49m\u001b[38;5;129;43;01min\u001b[39;49;00m\u001b[43m \u001b[49m\u001b[43mbatches\u001b[49m\u001b[43m \u001b[49m\u001b[38;5;28;43;01mif\u001b[39;49;00m\u001b[43m \u001b[49m\u001b[43mb\u001b[49m\u001b[38;5;241;43m.\u001b[39;49m\u001b[43mnum_rows\u001b[49m\u001b[43m \u001b[49m\u001b[38;5;241;43m>\u001b[39;49m\u001b[43m \u001b[49m\u001b[38;5;241;43m0\u001b[39;49m\u001b[43m)\u001b[49m\n\u001b[0;32m     47\u001b[0m geoarrow_schema \u001b[38;5;241m=\u001b[39m geoarrow_schema_adapter(dataset\u001b[38;5;241m.\u001b[39mschema)\n\u001b[0;32m     48\u001b[0m reader \u001b[38;5;241m=\u001b[39m pa\u001b[38;5;241m.\u001b[39mRecordBatchReader\u001b[38;5;241m.\u001b[39mfrom_batches(geoarrow_schema, non_empty_batches)\n",
      "File \u001b[1;32mc:\\Users\\iamcy\\anaconda3\\envs\\cyrusc\\Lib\\site-packages\\pyarrow\\_dataset.pyx:3830\u001b[0m, in \u001b[0;36m_iterator\u001b[1;34m()\u001b[0m\n",
      "File \u001b[1;32mc:\\Users\\iamcy\\anaconda3\\envs\\cyrusc\\Lib\\site-packages\\pyarrow\\_dataset.pyx:3439\u001b[0m, in \u001b[0;36mpyarrow._dataset.TaggedRecordBatchIterator.__next__\u001b[1;34m()\u001b[0m\n",
      "File \u001b[1;32m<string>:1\u001b[0m, in \u001b[0;36m<lambda>\u001b[1;34m(_cls, record_batch, fragment)\u001b[0m\n",
      "\u001b[1;31mKeyboardInterrupt\u001b[0m: "
     ]
    }
   ],
   "source": [
    "for i in range(len(sampled_gdf)):\n",
    "    point_coords = sampled_gdf.geometry.values[i]\n",
    "    #print(f'Point {i}\\'s coordinates: {point_coords}')\n",
    "    \n",
    "    #print(f'Point {i}\\'s address: {addess}')\n",
    "    #print(f'Point {i}\\'s coordinates: {sampled_gdf.geometry.values[i]}')\n",
    "    print(f\"Is address {i} on a road? {check_on_road(point_coords)}\")\n",
    "    # Calculate the point from the point to the address\n",
    "    #distance = dist_from_address(point, \"Tokyo Tower\")\n",
    "    #print(f\"Distance from {point} to Tokyo Tower: {distance} meters\")"
   ]
  },
  {
   "cell_type": "code",
   "execution_count": null,
   "id": "52d91bf9",
   "metadata": {},
   "outputs": [],
   "source": []
  }
 ],
 "metadata": {
  "kernelspec": {
   "display_name": "cyrusc",
   "language": "python",
   "name": "python3"
  },
  "language_info": {
   "codemirror_mode": {
    "name": "ipython",
    "version": 3
   },
   "file_extension": ".py",
   "mimetype": "text/x-python",
   "name": "python",
   "nbconvert_exporter": "python",
   "pygments_lexer": "ipython3",
   "version": "3.11.9"
  }
 },
 "nbformat": 4,
 "nbformat_minor": 5
}
