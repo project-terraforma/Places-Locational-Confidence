{
 "cells": [
  {
   "cell_type": "code",
   "execution_count": 1,
   "id": "b9050656",
   "metadata": {},
   "outputs": [
    {
     "name": "stdout",
     "output_type": "stream",
     "text": [
      "Requirement already satisfied: lonboard in c:\\users\\iamcy\\anaconda3\\envs\\cyrusc\\lib\\site-packages (0.10.4)\n",
      "Requirement already satisfied: overturemaps in c:\\users\\iamcy\\anaconda3\\envs\\cyrusc\\lib\\site-packages (0.14.0)\n",
      "Requirement already satisfied: anywidget<0.10.0,>=0.9.0 in c:\\users\\iamcy\\anaconda3\\envs\\cyrusc\\lib\\site-packages (from lonboard) (0.9.18)\n",
      "Requirement already satisfied: arro3-compute>=0.4.1 in c:\\users\\iamcy\\anaconda3\\envs\\cyrusc\\lib\\site-packages (from lonboard) (0.4.6)\n",
      "Requirement already satisfied: arro3-core>=0.4.1 in c:\\users\\iamcy\\anaconda3\\envs\\cyrusc\\lib\\site-packages (from lonboard) (0.4.6)\n",
      "Requirement already satisfied: arro3-io>=0.4.1 in c:\\users\\iamcy\\anaconda3\\envs\\cyrusc\\lib\\site-packages (from lonboard) (0.4.6)\n",
      "Requirement already satisfied: ipywidgets>=7.6.0 in c:\\users\\iamcy\\anaconda3\\envs\\cyrusc\\lib\\site-packages (from lonboard) (8.1.5)\n",
      "Requirement already satisfied: numpy>=1.14 in c:\\users\\iamcy\\anaconda3\\envs\\cyrusc\\lib\\site-packages (from lonboard) (1.26.4)\n",
      "Requirement already satisfied: pyproj>=3.3 in c:\\users\\iamcy\\anaconda3\\envs\\cyrusc\\lib\\site-packages (from lonboard) (3.7.1)\n",
      "Requirement already satisfied: traitlets>=5.7.1 in c:\\users\\iamcy\\anaconda3\\envs\\cyrusc\\lib\\site-packages (from lonboard) (5.14.3)\n",
      "Requirement already satisfied: typing-extensions<5.0.0,>=4.6.0 in c:\\users\\iamcy\\anaconda3\\envs\\cyrusc\\lib\\site-packages (from lonboard) (4.12.2)\n",
      "Requirement already satisfied: click>=8.1.7 in c:\\users\\iamcy\\anaconda3\\envs\\cyrusc\\lib\\site-packages (from overturemaps) (8.1.7)\n",
      "Requirement already satisfied: pyarrow>=15.0.2 in c:\\users\\iamcy\\anaconda3\\envs\\cyrusc\\lib\\site-packages (from overturemaps) (19.0.1)\n",
      "Requirement already satisfied: shapely>=2.0.3 in c:\\users\\iamcy\\anaconda3\\envs\\cyrusc\\lib\\site-packages (from overturemaps) (2.0.7)\n",
      "Requirement already satisfied: psygnal>=0.8.1 in c:\\users\\iamcy\\anaconda3\\envs\\cyrusc\\lib\\site-packages (from anywidget<0.10.0,>=0.9.0->lonboard) (0.12.0)\n",
      "Requirement already satisfied: colorama in c:\\users\\iamcy\\anaconda3\\envs\\cyrusc\\lib\\site-packages (from click>=8.1.7->overturemaps) (0.4.6)\n",
      "Requirement already satisfied: comm>=0.1.3 in c:\\users\\iamcy\\anaconda3\\envs\\cyrusc\\lib\\site-packages (from ipywidgets>=7.6.0->lonboard) (0.2.2)\n",
      "Requirement already satisfied: ipython>=6.1.0 in c:\\users\\iamcy\\anaconda3\\envs\\cyrusc\\lib\\site-packages (from ipywidgets>=7.6.0->lonboard) (8.30.0)\n",
      "Requirement already satisfied: widgetsnbextension~=4.0.12 in c:\\users\\iamcy\\anaconda3\\envs\\cyrusc\\lib\\site-packages (from ipywidgets>=7.6.0->lonboard) (4.0.13)\n",
      "Requirement already satisfied: jupyterlab-widgets~=3.0.12 in c:\\users\\iamcy\\anaconda3\\envs\\cyrusc\\lib\\site-packages (from ipywidgets>=7.6.0->lonboard) (3.0.13)\n",
      "Requirement already satisfied: certifi in c:\\users\\iamcy\\anaconda3\\envs\\cyrusc\\lib\\site-packages (from pyproj>=3.3->lonboard) (2024.8.30)\n",
      "Requirement already satisfied: decorator in c:\\users\\iamcy\\anaconda3\\envs\\cyrusc\\lib\\site-packages (from ipython>=6.1.0->ipywidgets>=7.6.0->lonboard) (5.1.1)\n",
      "Requirement already satisfied: jedi>=0.16 in c:\\users\\iamcy\\anaconda3\\envs\\cyrusc\\lib\\site-packages (from ipython>=6.1.0->ipywidgets>=7.6.0->lonboard) (0.19.2)\n",
      "Requirement already satisfied: matplotlib-inline in c:\\users\\iamcy\\anaconda3\\envs\\cyrusc\\lib\\site-packages (from ipython>=6.1.0->ipywidgets>=7.6.0->lonboard) (0.1.7)\n",
      "Requirement already satisfied: prompt_toolkit<3.1.0,>=3.0.41 in c:\\users\\iamcy\\anaconda3\\envs\\cyrusc\\lib\\site-packages (from ipython>=6.1.0->ipywidgets>=7.6.0->lonboard) (3.0.48)\n",
      "Requirement already satisfied: pygments>=2.4.0 in c:\\users\\iamcy\\anaconda3\\envs\\cyrusc\\lib\\site-packages (from ipython>=6.1.0->ipywidgets>=7.6.0->lonboard) (2.18.0)\n",
      "Requirement already satisfied: stack_data in c:\\users\\iamcy\\anaconda3\\envs\\cyrusc\\lib\\site-packages (from ipython>=6.1.0->ipywidgets>=7.6.0->lonboard) (0.6.3)\n",
      "Requirement already satisfied: parso<0.9.0,>=0.8.4 in c:\\users\\iamcy\\anaconda3\\envs\\cyrusc\\lib\\site-packages (from jedi>=0.16->ipython>=6.1.0->ipywidgets>=7.6.0->lonboard) (0.8.4)\n",
      "Requirement already satisfied: wcwidth in c:\\users\\iamcy\\anaconda3\\envs\\cyrusc\\lib\\site-packages (from prompt_toolkit<3.1.0,>=3.0.41->ipython>=6.1.0->ipywidgets>=7.6.0->lonboard) (0.2.13)\n",
      "Requirement already satisfied: executing>=1.2.0 in c:\\users\\iamcy\\anaconda3\\envs\\cyrusc\\lib\\site-packages (from stack_data->ipython>=6.1.0->ipywidgets>=7.6.0->lonboard) (2.1.0)\n",
      "Requirement already satisfied: asttokens>=2.1.0 in c:\\users\\iamcy\\anaconda3\\envs\\cyrusc\\lib\\site-packages (from stack_data->ipython>=6.1.0->ipywidgets>=7.6.0->lonboard) (3.0.0)\n",
      "Requirement already satisfied: pure_eval in c:\\users\\iamcy\\anaconda3\\envs\\cyrusc\\lib\\site-packages (from stack_data->ipython>=6.1.0->ipywidgets>=7.6.0->lonboard) (0.2.3)\n",
      "Note: you may need to restart the kernel to use updated packages.\n"
     ]
    }
   ],
   "source": [
    "%pip install lonboard overturemaps"
   ]
  },
  {
   "cell_type": "code",
   "execution_count": 2,
   "id": "21752312",
   "metadata": {},
   "outputs": [],
   "source": [
    "import overturemaps as om\n",
    "from overturemaps import core\n",
    "import pandas\n",
    "import geopandas as gpd\n",
    "from shapely import wkb\n",
    "from lonboard import Map, PolygonLayer, ScatterplotLayer\n",
    "import ipywidgets as widgets\n",
    "import numpy as np\n",
    "from IPython.display import display"
   ]
  },
  {
   "cell_type": "code",
   "execution_count": null,
   "id": "9f57b004",
   "metadata": {},
   "outputs": [],
   "source": [
    "bbox = 139.6917, 35.6895, 139.7017, 35.6995\n",
    "bbox = -109.048, 37.000, -102.040, 41.000 #colorado"
   ]
  },
  {
   "cell_type": "code",
   "execution_count": 4,
   "id": "937cde57",
   "metadata": {},
   "outputs": [
    {
     "name": "stdout",
     "output_type": "stream",
     "text": [
      "(257710, 15)\n"
     ]
    }
   ],
   "source": [
    "gdf = core.geodataframe(\"place\", bbox=bbox)\n",
    "print(np.shape(gdf))"
   ]
  },
  {
   "cell_type": "code",
   "execution_count": 5,
   "id": "07bcaacf",
   "metadata": {},
   "outputs": [
    {
     "name": "stderr",
     "output_type": "stream",
     "text": [
      "c:\\Users\\iamcy\\anaconda3\\envs\\cyrusc\\Lib\\site-packages\\lonboard\\_geoarrow\\ops\\reproject.py:33: UserWarning: No CRS exists on data. If no data is shown on the map, double check that your CRS is WGS84.\n",
      "  warn(\n"
     ]
    },
    {
     "data": {
      "application/vnd.jupyter.widget-view+json": {
       "model_id": "9f58077dc8c640d686e0d83d7488bcc0",
       "version_major": 2,
       "version_minor": 1
      },
      "text/plain": [
       "Map(custom_attribution='', layers=(ScatterplotLayer(get_fill_color=[0, 128, 128], radius_min_pixels=1.5, table…"
      ]
     },
     "execution_count": 5,
     "metadata": {},
     "output_type": "execute_result"
    }
   ],
   "source": [
    "layer = ScatterplotLayer.from_geopandas(\n",
    "    gdf,\n",
    "    get_fill_color=[0, 128, 128],\n",
    "    radius_min_pixels = 1.5,\n",
    ")\n",
    "\n",
    "view_state = {\n",
    "    \"longitude\": (bbox[0]+bbox[2])/2,\n",
    "    \"latitude\": (bbox[1]+bbox[3])/2,\n",
    "    \"zoom\": 8,\n",
    "    \"pitch\": 0,\n",
    "}\n",
    "m = Map(layer,view_state=view_state)\n",
    "m"
   ]
  },
  {
   "cell_type": "code",
   "execution_count": null,
   "id": "1a241986",
   "metadata": {},
   "outputs": [],
   "source": []
  }
 ],
 "metadata": {
  "kernelspec": {
   "display_name": "cyrusc",
   "language": "python",
   "name": "python3"
  },
  "language_info": {
   "codemirror_mode": {
    "name": "ipython",
    "version": 3
   },
   "file_extension": ".py",
   "mimetype": "text/x-python",
   "name": "python",
   "nbconvert_exporter": "python",
   "pygments_lexer": "ipython3",
   "version": "3.11.9"
  }
 },
 "nbformat": 4,
 "nbformat_minor": 5
}
